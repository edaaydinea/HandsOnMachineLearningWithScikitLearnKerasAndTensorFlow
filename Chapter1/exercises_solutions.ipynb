{
 "cells": [
  {
   "cell_type": "markdown",
   "metadata": {},
   "source": [
    "# Exercises"
   ]
  },
  {
   "cell_type": "markdown",
   "metadata": {},
   "source": [
    "### 1. How would you define Machine learning?\n",
    "\n",
    "    Machine learning is a subset of artificial intelligence that focuses on the development of computer programs that can access data and use it to learn for themselves."
   ]
  },
  {
   "cell_type": "markdown",
   "metadata": {},
   "source": [
    "### 2. Can you name four types of problems where it shines?\n",
    "\n",
    "    - Problems for which existing solutions require a lot of fine-tuning or long lists of rule\n",
    "    - Complex problems for which using a traditional approach yields no good solution\n",
    "    - Fluctuating environments: a Machine Learning system can adapt to new data\n",
    "    - Getting insights about complex problems and large amounts of data"
   ]
  },
  {
   "cell_type": "markdown",
   "metadata": {},
   "source": [
    "### 3. What is a labeled training set?\n",
    "\n",
    "    A labeled training set is a training set that contains the desired solution (a.k.a. a label) for each instance."
   ]
  },
  {
   "cell_type": "markdown",
   "metadata": {},
   "source": [
    "### 4. What are the two most common supervised tasks?\n",
    "\n",
    "    - Classification\n",
    "    - Regression"
   ]
  },
  {
   "cell_type": "markdown",
   "metadata": {},
   "source": [
    "### 5. Can you name four common unsupervised tasks?\n",
    "\n",
    "    - Clustering\n",
    "    - Anomaly detection\n",
    "    - Dimensionality reduction\n",
    "    - Association rule learning"
   ]
  },
  {
   "cell_type": "markdown",
   "metadata": {},
   "source": [
    "### 6. What type of Machine Learning algorithm would you use to allow a robot to walk in various unknown terrains?\n",
    "\n",
    "    Reinforcement Learning"
   ]
  },
  {
   "cell_type": "markdown",
   "metadata": {},
   "source": [
    "### 7. What type of algorithm would you use to segment your customers into multiple groups? \n",
    "\n",
    "    Clustering"
   ]
  },
  {
   "cell_type": "markdown",
   "metadata": {},
   "source": [
    "### 8. Would you frame the problem of spam detection as a supervised learning problem or an unsupervised learning problem?\n",
    "\n",
    "    Supervised learning problem"
   ]
  },
  {
   "cell_type": "markdown",
   "metadata": {},
   "source": [
    "### 9. What is an online learning system?\n",
    "\n",
    "    An online learning system can learn incrementally, as opposed to batch learning. This makes it capable of adapting rapidly to both changing data streams and autonomous systems."
   ]
  },
  {
   "cell_type": "markdown",
   "metadata": {},
   "source": [
    "### 10. What is out-of-core learning?\n",
    "\n",
    "    Out-of-core learning is a type of learning that involves training a system on huge datasets that cannot fit in one machine's main memory."
   ]
  },
  {
   "cell_type": "markdown",
   "metadata": {},
   "source": [
    "### 11. What type of learning algorithm relies on a similarity measure to make predictions?\n",
    "\n",
    "    Instance-based learning"
   ]
  },
  {
   "cell_type": "markdown",
   "metadata": {
    "notebookRunGroups": {
     "groupValue": "1"
    }
   },
   "source": [
    "### 12. What is the difference between a model parameter and a learning algorithm's hyperparameter?\n",
    "\n",
    "    A model has one or more model parameters that determine what it will predict given a new instance. A learning algorithm tries to find optimal values for these parameters such that the model generalizes well to new instances. A hyperparameter is a parameter of the learning algorithm itself, not of the model."
   ]
  },
  {
   "cell_type": "markdown",
   "metadata": {},
   "source": [
    "### 13. What do model-based learning algorithms search for? What is the most common strategy they use to succeed? How do they make predictions?\n",
    "\n",
    "    Model-based learning algorithms search for an optimal value of the model parameters such that the model will generalize well to new instances. They make predictions by using the model's parameters."
   ]
  },
  {
   "cell_type": "markdown",
   "metadata": {},
   "source": [
    "### 14. Can you name four of the main challenges in Machine Learning?\n",
    "\n",
    "    - Insufficient quantity of training data\n",
    "    - Nonrepresentative training data\n",
    "    - Poor-quality data\n",
    "    - Irrelevant features\n",
    "\n"
   ]
  },
  {
   "cell_type": "markdown",
   "metadata": {},
   "source": [
    "### 15. If your model performs great on the training data but generalizes poorly to new instances, what is happening? Can you name three possible solutions?\n",
    "\n",
    "    The model is overfitting the training data. Possible solutions are:\n",
    "    - Getting more data\n",
    "    - Simplifying the model\n",
    "    - Reducing the noise in the training data\n",
    "\n"
   ]
  },
  {
   "cell_type": "markdown",
   "metadata": {},
   "source": [
    "### 16. What is a test set, and why would you want to use it?\n",
    "    \n",
    "        A test set is used to estimate the generalization error that a model will make on new instances before the model is launched in production.\n",
    "\n",
    "\n",
    "\n"
   ]
  },
  {
   "cell_type": "markdown",
   "metadata": {},
   "source": [
    "### 17. What is the purpose of a validation set?\n",
    "\n",
    "    A validation set is used to compare models. It makes it possible to select the best model and tune the hyperparameters.\n",
    "\n",
    "\n"
   ]
  },
  {
   "cell_type": "markdown",
   "metadata": {},
   "source": [
    "### 18. What is the train-dev set, when do you need it, and how do you use it?\n",
    "\n",
    "    The train-dev set is used when there is a risk of mismatch between the training data and the data used in the validation and test datasets. It is used to evaluate the generalization error of the model on the training data.\n",
    "\n"
   ]
  },
  {
   "cell_type": "markdown",
   "metadata": {},
   "source": [
    "### 19. What can go wrong if you tune hyperparameters using the test set?\n",
    "\n",
    "    The model may not generalize well to new instances. The model may overfit the test set."
   ]
  }
 ],
 "metadata": {
  "kernelspec": {
   "display_name": "Python 3",
   "language": "python",
   "name": "python3"
  },
  "language_info": {
   "codemirror_mode": {
    "name": "ipython",
    "version": 3
   },
   "file_extension": ".py",
   "mimetype": "text/x-python",
   "name": "python",
   "nbconvert_exporter": "python",
   "pygments_lexer": "ipython3",
   "version": "3.12.5"
  }
 },
 "nbformat": 4,
 "nbformat_minor": 2
}
